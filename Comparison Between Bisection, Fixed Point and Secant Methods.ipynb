{
  "cells": [
    {
      "cell_type": "markdown",
      "metadata": {
        "id": "hCxMF1DAJh5Y"
      },
      "source": [
        "Bisection Method"
      ]
    },
    {
      "cell_type": "markdown",
      "metadata": {
        "id": "WnKvATJwv71G"
      },
      "source": [
        "# CE442 - Assignment 2\n",
        "## Ayzah Gardezi"
      ]
    },
    {
      "cell_type": "code",
      "execution_count": 1,
      "metadata": {
        "id": "K1xEB4qEJkOv"
      },
      "outputs": [],
      "source": [
        "import numpy as np\n",
        "\n",
        "def bisection_method(f, a, b, n, tolerance):\n",
        "  print(\"Bisection Method Iterations:\")\n",
        "  i = 0\n",
        "  t = (a + b) / 2\n",
        "  for  i in range(n):\n",
        "    t = (a + b) / 2\n",
        "    if np.abs(f(t)) > tolerance:\n",
        "      if f(t)*f(a) < 0:\n",
        "        b = t\n",
        "      else:\n",
        "        a = t\n",
        "      print(i + 1, \": \", t)\n",
        "    else:\n",
        "      return t\n",
        "  return t"
      ]
    },
    {
      "cell_type": "markdown",
      "metadata": {
        "id": "F5qfDxZ74jdd"
      },
      "source": [
        "Fixed-point method"
      ]
    },
    {
      "cell_type": "code",
      "execution_count": 2,
      "metadata": {
        "id": "2wvP1-dh4oGv"
      },
      "outputs": [],
      "source": [
        "def fixed_point_method(g, x0, n, tolerance):\n",
        "  print(\"Fixed Point Method Iterations:\")\n",
        "  x = x0\n",
        "  for i in range(n):\n",
        "    print(i + 1, \": \", x)\n",
        "    x_next = g(x)\n",
        "    if np.abs(x_next - x) <= tolerance:\n",
        "      return x_next\n",
        "    x = x_next\n",
        "  return x"
      ]
    },
    {
      "cell_type": "markdown",
      "metadata": {
        "id": "JvwjYLQvErCr"
      },
      "source": [
        "Secant Method"
      ]
    },
    {
      "cell_type": "code",
      "execution_count": 3,
      "metadata": {
        "id": "0G-fGBoJEpKs"
      },
      "outputs": [],
      "source": [
        "def secant_method(f, x1, x2, n, tol):\n",
        "  print(\"Secant Method Iterations:\")\n",
        "  for i in range(n):\n",
        "    if np.abs(x2 - x1) <= tol:\n",
        "      return x2\n",
        "    x = x2 - f(x2) * (x2 - x1) / (f(x2) - f(x1))\n",
        "    x1 = x2\n",
        "    x2 = x\n",
        "    print(i + 1, \": \", x)\n",
        "  return x"
      ]
    },
    {
      "cell_type": "markdown",
      "metadata": {
        "id": "9_iTTsbtTpmK"
      },
      "source": [
        "$$\n",
        "f(x) = \\sqrt{x} - \\cos(x)\n",
        "$$\n"
      ]
    },
    {
      "cell_type": "code",
      "execution_count": 4,
      "metadata": {
        "id": "RTpLeROTMT1G"
      },
      "outputs": [],
      "source": [
        "def func1(x):\n",
        "  return np.sqrt(x) - np.cos(x)\n",
        "\n",
        "\n",
        "def func1_fixed_point(x):\n",
        "  return np.cos(x) ** 2"
      ]
    },
    {
      "cell_type": "code",
      "execution_count": 5,
      "metadata": {
        "colab": {
          "base_uri": "https://localhost:8080/"
        },
        "id": "Qmz8SNVoTc0s",
        "outputId": "5b4b8b53-b605-40c8-8f52-204247130c34"
      },
      "outputs": [
        {
          "name": "stdout",
          "output_type": "stream",
          "text": [
            "Bisection Method Iterations:\n",
            "1 :  0.5\n",
            "2 :  0.75\n",
            "3 :  0.625\n",
            "4 :  0.6875\n",
            "5 :  0.65625\n",
            "6 :  0.640625\n",
            "7 :  0.6484375\n",
            "8 :  0.64453125\n",
            "9 :  0.642578125\n",
            "Solution using Bisection Method: 0.6416015625\n",
            "Fixed Point Method Iterations:\n",
            "1 :  0.5\n",
            "2 :  0.7701511529340699\n",
            "3 :  0.5152446475780607\n",
            "4 :  0.7571996555588056\n",
            "5 :  0.5281835620768099\n",
            "6 :  0.7460190040197923\n",
            "7 :  0.5393384613493524\n",
            "8 :  0.7362474248251424\n",
            "9 :  0.5490716180674262\n",
            "10 :  0.727625050097422\n",
            "11 :  0.5576446449520578\n",
            "12 :  0.7199588543876414\n",
            "13 :  0.5652526483090887\n",
            "14 :  0.7131013785302431\n",
            "15 :  0.5720451263197204\n",
            "16 :  0.7069372402788409\n",
            "17 :  0.5781393096320994\n",
            "18 :  0.7013742649003121\n",
            "19 :  0.5836289831798666\n",
            "20 :  0.696337471766223\n",
            "21 :  0.5885904966845008\n",
            "22 :  0.6917648889146761\n",
            "23 :  0.593086966136826\n",
            "24 :  0.6876045729076103\n",
            "25 :  0.5971712770287385\n",
            "26 :  0.6838124440860163\n",
            "27 :  0.6008882737365379\n",
            "28 :  0.680350685921193\n",
            "29 :  0.6042763838926191\n",
            "30 :  0.6771865423342938\n",
            "31 :  0.607368842855912\n",
            "32 :  0.674291400684477\n",
            "33 :  0.6101946302524929\n",
            "34 :  0.671640083000181\n",
            "35 :  0.6127791960042691\n",
            "36 :  0.6692102911296419\n",
            "37 :  0.6151450303029451\n",
            "38 :  0.6669821670974158\n",
            "39 :  0.6173121164296322\n",
            "40 :  0.6649379406924566\n",
            "41 :  0.6192982945941059\n",
            "42 :  0.6630616438201851\n",
            "43 :  0.6211195574545891\n",
            "44 :  0.6613388764747807\n",
            "45 :  0.6227902926412333\n",
            "46 :  0.6597566130126845\n",
            "47 :  0.6243234837654353\n",
            "48 :  0.6583030401882021\n",
            "49 :  0.6257308786009351\n",
            "50 :  0.6569674204537521\n",
            "51 :  0.627023131065681\n",
            "52 :  0.6557399755408868\n",
            "53 :  0.6282099221058387\n",
            "54 :  0.6546117864698318\n",
            "55 :  0.629300063438999\n",
            "56 :  0.6535747069878467\n",
            "57 :  0.6303015872495892\n",
            "58 :  0.6526212880835391\n",
            "59 :  0.6312218242722907\n",
            "60 :  0.6517447117181844\n",
            "61 :  0.6320674721959536\n",
            "62 :  0.6509387322945751\n",
            "63 :  0.6328446559325293\n",
            "64 :  0.650197624677132\n",
            "65 :  0.6335589809946569\n",
            "66 :  0.649516137804855\n",
            "67 :  0.6342155809907469\n",
            "68 :  0.6488894531167165\n",
            "69 :  0.6348191600621277\n",
            "70 :  0.6483131471489815\n",
            "71 :  0.6353740309413213\n",
            "72 :  0.6477831577744675\n",
            "73 :  0.6358841491949468\n",
            "74 :  0.6472957536416201\n",
            "75 :  0.6363531441224003\n",
            "76 :  0.6468475064415447\n",
            "77 :  0.6367843467072019\n",
            "78 :  0.6464352656876949\n",
            "79 :  0.637180814957805\n",
            "80 :  0.6460561357387602\n",
            "81 :  0.6375453569257173\n",
            "82 :  0.6457074548326991\n",
            "83 :  0.637880551648633\n",
            "84 :  0.6453867759306346\n",
            "85 :  0.6381887682331295\n",
            "86 :  0.6450918491948072\n",
            "87 :  0.6384721832639175\n",
            "88 :  0.6448206059460713\n",
            "89 :  0.6387327967035388\n",
            "90 :  0.6445711439643271\n",
            "91 :  0.6389724464269511\n",
            "92 :  0.6443417140104828\n",
            "93 :  0.6391928215188905\n",
            "94 :  0.6441307074615245\n",
            "95 :  0.6393954744477733\n",
            "96 :  0.6439366449614732\n",
            "97 :  0.6395818322177264\n",
            "98 :  0.6437581660007063\n",
            "99 :  0.6397532065897922\n",
            "100 :  0.6435940193446122\n",
            "Solution using Fixed Point Method: 0.6399108034541748\n",
            "Secant Method Iterations:\n",
            "1 :  0.6646164716338181\n",
            "2 :  0.6438057719575102\n",
            "3 :  0.6417205982578611\n",
            "4 :  0.6417143725506766\n",
            "Solution using Secant Method: 0.6417143725506766\n"
          ]
        }
      ],
      "source": [
        "print(\"Solution using Bisection Method:\", bisection_method(func1, 0, 1, 100, 0.001))\n",
        "\n",
        "print(\"Solution using Fixed Point Method:\", fixed_point_method(func1_fixed_point, 0.5, 100, 0.001))\n",
        "\n",
        "print(\"Solution using Secant Method:\", secant_method(func1, 1, 2, 100, 0.001))"
      ]
    },
    {
      "cell_type": "markdown",
      "metadata": {
        "id": "3sAJlpiEuaSv"
      },
      "source": [
        "### Secant Method gives us the result in 4 iterations, while Bisection Method gives it in 9 and the result keeps fluctuating when using Fixed Point Method"
      ]
    },
    {
      "cell_type": "markdown",
      "metadata": {
        "id": "zmttxkQ7XwuZ"
      },
      "source": [
        "$$\n",
        "f(x) = 3(x + 1)(x - 1 / 2)(x - 1)\n",
        "$$"
      ]
    },
    {
      "cell_type": "code",
      "execution_count": 6,
      "metadata": {
        "id": "rTBW72PXthpO"
      },
      "outputs": [],
      "source": [
        "def func2(x):\n",
        "  return 3 * (x + 1) * (x - 1 / 2) * (x - 1)\n",
        "\n",
        "def func2_fixed_point(x):\n",
        "  return -1 / (2 * (x**2 - x - 1/2))"
      ]
    },
    {
      "cell_type": "code",
      "execution_count": 7,
      "metadata": {
        "colab": {
          "base_uri": "https://localhost:8080/"
        },
        "id": "JS-OMt4mUf3w",
        "outputId": "82d2351d-d1cd-437c-c8db-84e02d8121b5"
      },
      "outputs": [
        {
          "name": "stdout",
          "output_type": "stream",
          "text": [
            "Bisection Method Iterations:\n",
            "1 :  -0.25\n",
            "2 :  -1.125\n",
            "3 :  -0.6875\n",
            "4 :  -0.90625\n",
            "5 :  -1.015625\n",
            "6 :  -0.9609375\n",
            "7 :  -0.98828125\n",
            "8 :  -1.001953125\n",
            "9 :  -0.9951171875\n",
            "10 :  -0.99853515625\n",
            "11 :  -1.000244140625\n",
            "12 :  -0.9993896484375\n",
            "13 :  -0.99981689453125\n",
            "Solution using Bisection Method: -1.000030517578125\n",
            "Fixed Point Method Iterations:\n",
            "1 :  -2\n",
            "2 :  -0.09090909090909091\n",
            "3 :  1.2474226804123711\n",
            "4 :  2.612885309636213\n",
            "5 :  -0.1346154347247603\n",
            "6 :  1.4398298696648508\n",
            "7 :  -3.7514954235183877\n",
            "8 :  -0.028859673488426458\n",
            "9 :  1.06313434862688\n",
            "10 :  1.1550553046646725\n",
            "11 :  1.5581054229081073\n",
            "12 :  -1.3528611224712828\n",
            "13 :  -0.18635200138192046\n",
            "14 :  1.79262273233927\n",
            "15 :  -0.5429627247499677\n",
            "16 :  -1.4802917864647682\n",
            "17 :  -0.1576513450934303\n",
            "18 :  1.5748293969441143\n",
            "19 :  -1.2337812285072118\n",
            "20 :  -0.22163146617679294\n",
            "21 :  2.181043852336733\n",
            "22 :  -0.24085840778729517\n",
            "23 :  2.485968947500192\n",
            "24 :  -0.15653995796448225\n",
            "25 :  1.5676178628014956\n",
            "26 :  -1.282683082493103\n",
            "27 :  -0.20593428704567704\n",
            "28 :  1.9868330004247294\n",
            "29 :  -0.34230811089119173\n",
            "30 :  12.3404849397399\n",
            "31 :  -0.003585589508668446\n",
            "32 :  1.0072490626419532\n",
            "33 :  1.0148196375760992\n",
            "34 :  1.0310112921929124\n",
            "35 :  1.0683144175863415\n",
            "36 :  1.1709088462543198\n",
            "37 :  1.6673262608370953\n",
            "38 :  -0.8161258645961101\n",
            "39 :  -0.5090678777337283\n",
            "40 :  -1.8641554026559992\n",
            "41 :  -0.10332220635475017\n",
            "42 :  1.2953290178751493\n",
            "43 :  4.257067143248672\n",
            "44 :  -0.037409599182985885\n",
            "45 :  1.0841496989279622\n",
            "46 :  1.2231843459576306\n",
            "47 :  2.202600461133721\n",
            "48 :  -0.23268277847287036\n",
            "49 :  2.345480384061664\n",
            "50 :  -0.18826734135082818\n",
            "51 :  1.80970537648265\n",
            "52 :  -0.5179585698291347\n",
            "53 :  -1.7467880504836832\n",
            "54 :  -0.1163316477819935\n",
            "55 :  1.3508573758782267\n",
            "56 :  19.199956318507038\n",
            "57 :  -0.0014329178109063583\n",
            "58 :  1.0028782024030498\n",
            "59 :  1.0058064936346671\n",
            "60 :  1.0118184625892235\n",
            "61 :  1.0245022806323407\n",
            "62 :  1.0528590904670057\n",
            "63 :  1.1252471507492743\n",
            "64 :  1.3925016552158063\n",
            "65 :  -10.739015081839227\n",
            "66 :  -0.0039819867657948154\n",
            "67 :  1.0080601322551748\n",
            "68 :  1.0165186268986202\n",
            "69 :  1.034749992297147\n",
            "70 :  1.0774876406070946\n",
            "71 :  1.2004570621772854\n",
            "72 :  1.9278230451202854\n",
            "73 :  -0.38799432326087085\n",
            "74 :  -12.975581619745714\n",
            "75 :  -0.002764855152149778\n",
            "76 :  1.0055759176107493\n",
            "77 :  1.0113411973146624\n",
            "78 :  1.0234782221087424\n",
            "79 :  1.0504851591611326\n",
            "80 :  1.1186530962803942\n",
            "81 :  1.3614023773508226\n",
            "82 :  62.61000347243591\n",
            "83 :  -0.00012963770692579765\n",
            "84 :  1.0002593762843333\n",
            "Solution using Fixed Point Method: 1.0005191565044043\n",
            "Secant Method Iterations:\n",
            "1 :  -0.125\n",
            "2 :  -0.2883817427385892\n",
            "3 :  0.8093358848828459\n",
            "4 :  0.6681221321999887\n",
            "5 :  -0.29556193891328975\n",
            "6 :  0.5586236110120472\n",
            "7 :  0.5136742797498162\n",
            "8 :  0.4987232706142669\n",
            "9 :  0.5000239680575115\n",
            "10 :  0.5000000406819843\n",
            "Solution using Secant Method: 0.5000000406819843\n"
          ]
        }
      ],
      "source": [
        "print(\"Solution using Bisection Method:\", bisection_method(func2, -2, 1.5, 100, 0.001))\n",
        "\n",
        "print(\"Solution using Fixed Point Method:\", fixed_point_method(func2_fixed_point, -2, 100, 0.001))\n",
        "\n",
        "print(\"Solution using Secant Method:\", secant_method(func2, -2, 2.5, 100, 0.001))"
      ]
    },
    {
      "cell_type": "markdown",
      "metadata": {
        "id": "YDqij80ku09g"
      },
      "source": [
        "### We get different results from each as three roots are present in this function, each method giving a different one."
      ]
    },
    {
      "cell_type": "markdown",
      "metadata": {
        "id": "HNconnsZmN8z"
      },
      "source": [
        "$$\n",
        "f(x) = x^3 - 7x^2 + 14x - 6\n",
        "$$"
      ]
    },
    {
      "cell_type": "code",
      "execution_count": 8,
      "metadata": {
        "id": "q8Od_eMbXfpK"
      },
      "outputs": [],
      "source": [
        "def func3(x):\n",
        "  return x**3 - 7 * x**2 + 14 * x - 6\n",
        "\n",
        "def func3_fixed_point(x):\n",
        "  return 6/(x**2 - 7 * x + 14)"
      ]
    },
    {
      "cell_type": "code",
      "execution_count": 9,
      "metadata": {
        "colab": {
          "base_uri": "https://localhost:8080/"
        },
        "id": "nav1awRwlwCH",
        "outputId": "510f4694-fc12-4100-82d0-69c3af67e6f1"
      },
      "outputs": [
        {
          "name": "stdout",
          "output_type": "stream",
          "text": [
            "Bisection Method Iterations:\n",
            "1 :  3.6\n",
            "2 :  3.4000000000000004\n",
            "3 :  3.5\n",
            "4 :  3.45\n",
            "5 :  3.4250000000000003\n",
            "Solution using Bisection Method: 3.4125000000000005\n",
            "Fixed Point Method Iterations:\n",
            "1 :  3.2\n",
            "2 :  3.2608695652173916\n",
            "3 :  3.3200836820083706\n",
            "4 :  3.366304638753767\n",
            "5 :  3.3939061686727188\n",
            "6 :  3.4066599841838165\n",
            "Solution using Fixed Point Method: 3.4115868753762815\n",
            "Secant Method Iterations:\n",
            "1 :  3.242424242424241\n",
            "2 :  3.282135794330914\n",
            "3 :  3.674795442889595\n",
            "4 :  3.3434319456681916\n",
            "5 :  3.379834256066227\n",
            "6 :  3.423311301253208\n",
            "7 :  3.413290807771137\n",
            "8 :  3.4141907852727846\n",
            "Solution using Secant Method: 3.4141907852727846\n"
          ]
        }
      ],
      "source": [
        "print(\"Solution using Bisection Method:\", bisection_method(func3, 3.2, 4, 100, 0.01))\n",
        "\n",
        "print(\"Solution using Fixed Point Method:\", fixed_point_method(func3_fixed_point, 3.2, 100, 0.01))\n",
        "\n",
        "print(\"Solution using Secant Method:\", secant_method(func3, 3.2, 4, 100, 0.01))"
      ]
    },
    {
      "cell_type": "markdown",
      "metadata": {
        "id": "9Mm7d7oavAn7"
      },
      "source": [
        "### Bisection Method proves fastest in this case."
      ]
    },
    {
      "cell_type": "markdown",
      "metadata": {
        "id": "RFs6oitcm-hU"
      },
      "source": [
        "$$f(x) = 𝑒^x −𝑥^2 +3𝑥 −2 = 0 $$"
      ]
    },
    {
      "cell_type": "code",
      "execution_count": 10,
      "metadata": {
        "id": "ajwsyILel7ZR"
      },
      "outputs": [],
      "source": [
        "def func4(x):\n",
        "  return np.e**x - x**2 + 3*x - 2\n",
        "\n",
        "def func4_fixed_point(x):\n",
        "  return (2-np.e**x) / (x + 3)"
      ]
    },
    {
      "cell_type": "code",
      "execution_count": 11,
      "metadata": {
        "colab": {
          "base_uri": "https://localhost:8080/"
        },
        "id": "ZPHGdpn6n4O4",
        "outputId": "77f08c1d-db86-4a2a-b3a0-295d46d5a523"
      },
      "outputs": [
        {
          "name": "stdout",
          "output_type": "stream",
          "text": [
            "Bisection Method Iterations:\n",
            "1 :  0.5\n",
            "2 :  0.25\n",
            "3 :  0.375\n",
            "4 :  0.3125\n",
            "5 :  0.28125\n",
            "6 :  0.265625\n",
            "7 :  0.2578125\n",
            "8 :  0.25390625\n",
            "9 :  0.255859375\n",
            "10 :  0.2568359375\n",
            "11 :  0.25732421875\n",
            "12 :  0.257568359375\n",
            "13 :  0.2574462890625\n",
            "14 :  0.25750732421875\n",
            "15 :  0.257537841796875\n",
            "16 :  0.2575225830078125\n",
            "Solution using Bisection Method: 0.25753021240234375\n",
            "Fixed Point Method Iterations:\n",
            "1 :  0\n",
            "2 :  0.3333333333333333\n",
            "3 :  0.18131627247417315\n",
            "4 :  0.2518472438472212\n",
            "5 :  0.21944465088756976\n",
            "6 :  0.23439293627663127\n",
            "7 :  0.2275106621127256\n",
            "8 :  0.23068217344273548\n",
            "9 :  0.22922128327514757\n",
            "10 :  0.22989434179837107\n",
            "11 :  0.22958427923255925\n",
            "12 :  0.2297271237850871\n",
            "13 :  0.2296613171312496\n",
            "14 :  0.22969163367725218\n",
            "15 :  0.22967766716754856\n",
            "Solution using Fixed Point Method: 0.22968410140165524\n",
            "Secant Method Iterations:\n",
            "1 :  0.2689414213699952\n",
            "2 :  0.2571707218292616\n",
            "3 :  0.2575306666833041\n",
            "4 :  0.2575302854526741\n",
            "Solution using Secant Method: 0.2575302854526741\n"
          ]
        }
      ],
      "source": [
        "print(\"Solution using Bisection Method:\", bisection_method(func4, 0, 1, 100, 0.00001))\n",
        "\n",
        "print(\"Solution using Fixed Point Method:\", fixed_point_method(func4_fixed_point, 0, 100, 0.00001))\n",
        "\n",
        "print(\"Solution using Secant Method:\", secant_method(func4, 0, 1, 100, 0.00001))"
      ]
    },
    {
      "cell_type": "markdown",
      "metadata": {
        "id": "HwaXxUsuvQ6z"
      },
      "source": [
        "## Secant Method Provides quickest results in just 4 iterations"
      ]
    },
    {
      "cell_type": "markdown",
      "metadata": {
        "id": "wqusi8BQoHjj"
      },
      "source": [
        "$$ f(x) = 2x \\cos2x - (x + 1)^2\n",
        "$$"
      ]
    },
    {
      "cell_type": "code",
      "execution_count": 12,
      "metadata": {
        "id": "vvFnoN7jopW6"
      },
      "outputs": [],
      "source": [
        "def func5(x):\n",
        "  return 2*x*np.cos(2*x) - (x + 1)**2\n",
        "\n",
        "def func5_fixed_point(x):\n",
        "  return (x + 1)**2 / (2*np.cos(2*x))\n",
        "#  return 1 / (2*np.cos(2*x) - x - 2)"
      ]
    },
    {
      "cell_type": "code",
      "execution_count": 13,
      "metadata": {
        "colab": {
          "base_uri": "https://localhost:8080/"
        },
        "id": "y0vrjuSrpcvQ",
        "outputId": "14e97f1a-6dce-4c62-881d-81bd229e22b1"
      },
      "outputs": [
        {
          "name": "stdout",
          "output_type": "stream",
          "text": [
            "Bisection Method Iterations:\n",
            "1 :  -2.5\n",
            "2 :  -2.25\n",
            "3 :  -2.125\n",
            "4 :  -2.1875\n",
            "5 :  -2.21875\n",
            "6 :  -2.203125\n",
            "7 :  -2.1953125\n",
            "8 :  -2.19140625\n",
            "9 :  -2.189453125\n",
            "10 :  -2.1904296875\n",
            "11 :  -2.19091796875\n",
            "12 :  -2.191162109375\n",
            "13 :  -2.1912841796875\n",
            "14 :  -2.19134521484375\n",
            "15 :  -2.191314697265625\n",
            "16 :  -2.1912994384765625\n",
            "Solution using Bisection Method: -2.1913070678710938\n",
            "Fixed Point Method Iterations:\n",
            "1 :  -3\n",
            "2 :  2.0829638531902153\n",
            "3 :  -9.144956360931152\n",
            "4 :  39.141387729616966\n",
            "5 :  -833.033591818722\n",
            "6 :  664706.106010415\n",
            "7 :  -223660384088.18787\n",
            "8 :  2.732936960859598e+22\n",
            "9 :  2.175185952229039e+45\n",
            "10 :  -2.5687962170835077e+90\n",
            "11 :  3.4199683913634524e+180\n",
            "12 :  -inf\n",
            "13 :  nan\n",
            "14 :  nan\n",
            "15 :  nan\n",
            "16 :  nan\n",
            "17 :  nan\n",
            "18 :  nan\n",
            "19 :  nan\n",
            "20 :  nan\n",
            "21 :  nan\n",
            "22 :  nan\n",
            "23 :  nan\n",
            "24 :  nan\n",
            "25 :  nan\n",
            "26 :  nan\n",
            "27 :  nan\n",
            "28 :  nan\n",
            "29 :  nan\n",
            "30 :  nan\n",
            "31 :  nan\n",
            "32 :  nan\n",
            "33 :  nan\n",
            "34 :  nan\n",
            "35 :  nan\n",
            "36 :  nan\n",
            "37 :  nan\n",
            "38 :  nan\n",
            "39 :  nan\n",
            "40 :  nan\n",
            "41 :  nan\n",
            "42 :  nan\n",
            "43 :  nan\n",
            "44 :  nan\n",
            "45 :  nan\n",
            "46 :  nan\n",
            "47 :  nan\n",
            "48 :  nan\n",
            "49 :  nan\n",
            "50 :  nan\n",
            "51 :  nan\n",
            "52 :  nan\n",
            "53 :  nan\n",
            "54 :  nan\n",
            "55 :  nan\n",
            "56 :  nan\n",
            "57 :  nan\n",
            "58 :  nan\n",
            "59 :  nan\n",
            "60 :  nan\n",
            "61 :  nan\n",
            "62 :  nan\n",
            "63 :  nan\n",
            "64 :  nan\n",
            "65 :  nan\n",
            "66 :  nan\n",
            "67 :  nan\n",
            "68 :  nan\n",
            "69 :  nan\n",
            "70 :  nan\n",
            "71 :  nan\n",
            "72 :  nan\n",
            "73 :  nan\n",
            "74 :  nan\n",
            "75 :  nan\n",
            "76 :  nan\n",
            "77 :  nan\n",
            "78 :  nan\n",
            "79 :  nan\n",
            "80 :  nan\n",
            "81 :  nan\n",
            "82 :  nan\n",
            "83 :  nan\n",
            "84 :  nan\n",
            "85 :  nan\n",
            "86 :  nan\n",
            "87 :  nan\n",
            "88 :  nan\n",
            "89 :  nan\n",
            "90 :  nan\n",
            "91 :  nan\n",
            "92 :  nan\n",
            "93 :  nan\n",
            "94 :  nan\n",
            "95 :  nan\n",
            "96 :  nan\n",
            "97 :  nan\n",
            "98 :  nan\n",
            "99 :  nan\n",
            "100 :  nan\n",
            "Solution using Fixed Point Method: nan\n",
            "Secant Method Iterations:\n",
            "1 :  -2.1419331747181767\n",
            "2 :  -2.2012800280775195\n",
            "3 :  -2.1909137553700675\n",
            "4 :  -2.1913050605596935\n",
            "5 :  -2.1913080126822\n",
            "Solution using Secant Method: -2.1913080126822\n"
          ]
        },
        {
          "name": "stderr",
          "output_type": "stream",
          "text": [
            "<ipython-input-12-d4feb1c6566e>:5: RuntimeWarning: overflow encountered in scalar power\n",
            "  return (x + 1)**2 / (2*np.cos(2*x))\n",
            "<ipython-input-12-d4feb1c6566e>:5: RuntimeWarning: invalid value encountered in cos\n",
            "  return (x + 1)**2 / (2*np.cos(2*x))\n"
          ]
        }
      ],
      "source": [
        "print(\"Solution using Bisection Method:\", bisection_method(func5, -3, -2, 100, 0.00001))\n",
        "\n",
        "print(\"Solution using Fixed Point Method:\", fixed_point_method(func5_fixed_point, -3, 100, 0.00001))\n",
        "\n",
        "print(\"Solution using Secant Method:\", secant_method(func5, -3, -2, 100, 0.00001))"
      ]
    },
    {
      "cell_type": "markdown",
      "metadata": {
        "id": "OblQ1Mx9XvMw"
      },
      "source": [
        "### Fixed Point Method gives nan as it is diverging, Secant Method is uses least iterations."
      ]
    }
  ],
  "metadata": {
    "colab": {
      "provenance": []
    },
    "kernelspec": {
      "display_name": "Python 3",
      "name": "python3"
    },
    "language_info": {
      "name": "python"
    }
  },
  "nbformat": 4,
  "nbformat_minor": 0
}
