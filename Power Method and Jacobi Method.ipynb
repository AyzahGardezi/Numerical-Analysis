{
 "cells": [
  {
   "cell_type": "code",
   "execution_count": 4,
   "metadata": {},
   "outputs": [],
   "source": [
    "import numpy as np\n",
    "\n",
    "A = np.array([\n",
    "    [0, 0, 1, 0],\n",
    "    [0.5, 0, 0, 0.5],\n",
    "    [0.5, 1, 0, 0.5],\n",
    "    [0, 0, 0, 0]\n",
    "], dtype=float)"
   ]
  },
  {
   "cell_type": "code",
   "execution_count": 5,
   "metadata": {},
   "outputs": [
    {
     "name": "stdout",
     "output_type": "stream",
     "text": [
      "Converged in 38 iterations\n",
      "PageRank Vector (Power Method): [0.39999962 0.20000029 0.4000001  0.        ]\n"
     ]
    }
   ],
   "source": [
    "# Power method: x_next = Ax\n",
    "# keep iterating until l1 norm is less than tolerance\n",
    "\n",
    "def power_method(A, tol=1e-6, max_iter=100):\n",
    "    n = A.shape[0] # no. of pages\n",
    "    x = np.ones(n) / n #initial guess\n",
    "\n",
    "    for i in range(max_iter):\n",
    "        x_next = np.dot(A, x)\n",
    "        x_next /= np.sum(x_next)    # normalize so that vector sums up to 1\n",
    "        if np.linalg.norm(x_next - x, 1) < tol:     #l1 norm (i.e. absolute diff.)\n",
    "            print(\"Converged in\", i, \"iterations\")\n",
    "            break\n",
    "        x = x_next\n",
    "    return x\n",
    "\n",
    "pagerank_vector = power_method(A)\n",
    "print(\"PageRank Vector (Power Method):\", pagerank_vector)\n"
   ]
  },
  {
   "cell_type": "code",
   "execution_count": 6,
   "metadata": {},
   "outputs": [
    {
     "name": "stdout",
     "output_type": "stream",
     "text": [
      "Converged in 38 iterations\n",
      "PageRank Vector (Jacobi Method): [0.39999962 0.20000029 0.4000001  0.        ]\n"
     ]
    }
   ],
   "source": [
    "# Jacobi method steps:\n",
    "# 1. matrix decomposition: A = D + R\n",
    "# 2. apply formula: x_(k+1) = D^−1 * (b − Rx_k)\n",
    "# 3. take l1 norm\n",
    "# 4. if norm is less than tolerance then return, else iterate\n",
    "\n",
    "def jacobi_method(A, tol=1e-6, max_iter=100):\n",
    "    # no. of pages\n",
    "    n = A.shape[0]\n",
    "    # identity matrix\n",
    "    I = np.eye(n)\n",
    "    M = I - A       # because (I - A)x = 0\n",
    "    D = np.diag(np.diag(M)) # (np.diag(M)) gives a vector consisting of M's diagonal, so to reconstruct a diagonal matrix we did diag again\n",
    "    R = M - D   # matrix without diagonal\n",
    "    \n",
    "    # normalized x vector so that the sum is 1 \n",
    "    x = np.ones(n) / n\n",
    "    for i in range(max_iter):\n",
    "        x_next = np.dot(np.linalg.inv(D), -np.dot(R, x))    # Jacobi method formula (b is not present because it's already zero)\n",
    "        x_next /= np.sum(x_next)    # normalize so the sum is 1\n",
    "        if np.linalg.norm(x_next - x, 1) < tol:     #l1 difference -> absolute difference\n",
    "            print(\"Converged in\", i, \"iterations\")\n",
    "            break\n",
    "        x = x_next\n",
    "    return x\n",
    "\n",
    "pagerank_vector_jacobi = jacobi_method(A)\n",
    "print(\"PageRank Vector (Jacobi Method):\", pagerank_vector_jacobi)\n"
   ]
  }
 ],
 "metadata": {
  "kernelspec": {
   "display_name": "base",
   "language": "python",
   "name": "python3"
  },
  "language_info": {
   "codemirror_mode": {
    "name": "ipython",
    "version": 3
   },
   "file_extension": ".py",
   "mimetype": "text/x-python",
   "name": "python",
   "nbconvert_exporter": "python",
   "pygments_lexer": "ipython3",
   "version": "3.11.7"
  }
 },
 "nbformat": 4,
 "nbformat_minor": 2
}
